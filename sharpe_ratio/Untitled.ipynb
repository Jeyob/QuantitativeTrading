{
 "cells": [
  {
   "cell_type": "code",
   "execution_count": 101,
   "metadata": {},
   "outputs": [],
   "source": [
    "import pandas as pd\n",
    "import numpy as np\n",
    "import datetime"
   ]
  },
  {
   "cell_type": "code",
   "execution_count": 102,
   "metadata": {},
   "outputs": [],
   "source": [
    "price_data = pd.read_csv('ERIC-B-2018-01-01-2019-01-01.csv', sep=';')"
   ]
  },
  {
   "cell_type": "code",
   "execution_count": 179,
   "metadata": {},
   "outputs": [
    {
     "data": {
      "text/html": [
       "<div>\n",
       "<style scoped>\n",
       "    .dataframe tbody tr th:only-of-type {\n",
       "        vertical-align: middle;\n",
       "    }\n",
       "\n",
       "    .dataframe tbody tr th {\n",
       "        vertical-align: top;\n",
       "    }\n",
       "\n",
       "    .dataframe thead th {\n",
       "        text-align: right;\n",
       "    }\n",
       "</style>\n",
       "<table border=\"1\" class=\"dataframe\">\n",
       "  <thead>\n",
       "    <tr style=\"text-align: right;\">\n",
       "      <th></th>\n",
       "      <th>Date</th>\n",
       "      <th>Open</th>\n",
       "      <th>High</th>\n",
       "      <th>Low</th>\n",
       "      <th>Close</th>\n",
       "      <th>Adj Close</th>\n",
       "      <th>Volume</th>\n",
       "    </tr>\n",
       "  </thead>\n",
       "  <tbody>\n",
       "    <tr>\n",
       "      <th>0</th>\n",
       "      <td>2001-11-26</td>\n",
       "      <td>115.750000</td>\n",
       "      <td>116.339996</td>\n",
       "      <td>115.070000</td>\n",
       "      <td>115.93</td>\n",
       "      <td>82.458862</td>\n",
       "      <td>13726000</td>\n",
       "    </tr>\n",
       "    <tr>\n",
       "      <th>1</th>\n",
       "      <td>2001-11-27</td>\n",
       "      <td>115.620003</td>\n",
       "      <td>116.900002</td>\n",
       "      <td>114.089996</td>\n",
       "      <td>115.43</td>\n",
       "      <td>82.103249</td>\n",
       "      <td>19261400</td>\n",
       "    </tr>\n",
       "  </tbody>\n",
       "</table>\n",
       "</div>"
      ],
      "text/plain": [
       "         Date        Open        High         Low   Close  Adj Close    Volume\n",
       "0  2001-11-26  115.750000  116.339996  115.070000  115.93  82.458862  13726000\n",
       "1  2001-11-27  115.620003  116.900002  114.089996  115.43  82.103249  19261400"
      ]
     },
     "execution_count": 179,
     "metadata": {},
     "output_type": "execute_result"
    }
   ],
   "source": [
    "price_data2 = pd.read_csv('./source_data/SPY.csv', sep=',')\n",
    "price_data2.head(2)"
   ]
  },
  {
   "cell_type": "code",
   "execution_count": 181,
   "metadata": {},
   "outputs": [
    {
     "name": "stdout",
     "output_type": "stream",
     "text": [
      "Both exist\n"
     ]
    }
   ],
   "source": [
    "if 'Adj Close' in price_data2.columns and 'Close' in price_data2.columns:\n",
    "    print('Both exist')\n",
    "else:\n",
    "    print('Adj close does nto exist')"
   ]
  },
  {
   "cell_type": "code",
   "execution_count": 178,
   "metadata": {},
   "outputs": [
    {
     "data": {
      "text/plain": [
       "False"
      ]
     },
     "execution_count": 178,
     "metadata": {},
     "output_type": "execute_result"
    }
   ],
   "source": [
    "price_data2['Closing price'].dtype == np.str"
   ]
  },
  {
   "cell_type": "code",
   "execution_count": 174,
   "metadata": {},
   "outputs": [
    {
     "ename": "AttributeError",
     "evalue": "Can only use .str accessor with string values, which use np.object_ dtype in pandas",
     "output_type": "error",
     "traceback": [
      "\u001b[0;31m---------------------------------------------------------------------------\u001b[0m",
      "\u001b[0;31mAttributeError\u001b[0m                            Traceback (most recent call last)",
      "\u001b[0;32m<ipython-input-174-092605d387b3>\u001b[0m in \u001b[0;36m<module>\u001b[0;34m\u001b[0m\n\u001b[1;32m      1\u001b[0m \u001b[0mprice_data2\u001b[0m\u001b[0;34m.\u001b[0m\u001b[0mcolumns\u001b[0m \u001b[0;34m=\u001b[0m \u001b[0;34m[\u001b[0m\u001b[0;34m'Date'\u001b[0m\u001b[0;34m,\u001b[0m \u001b[0;34m'Opening price'\u001b[0m\u001b[0;34m,\u001b[0m \u001b[0;34m'High price'\u001b[0m\u001b[0;34m,\u001b[0m \u001b[0;34m'Low price'\u001b[0m\u001b[0;34m,\u001b[0m \u001b[0;34m'Closing price'\u001b[0m\u001b[0;34m]\u001b[0m\u001b[0;34m\u001b[0m\u001b[0;34m\u001b[0m\u001b[0m\n\u001b[1;32m      2\u001b[0m \u001b[0;34m\u001b[0m\u001b[0m\n\u001b[0;32m----> 3\u001b[0;31m \u001b[0mprice_data2\u001b[0m\u001b[0;34m[\u001b[0m\u001b[0;34m'Date'\u001b[0m\u001b[0;34m]\u001b[0m \u001b[0;34m=\u001b[0m \u001b[0mprice_data\u001b[0m\u001b[0;34m[\u001b[0m\u001b[0;34m'Date'\u001b[0m\u001b[0;34m]\u001b[0m\u001b[0;34m.\u001b[0m\u001b[0mstr\u001b[0m\u001b[0;34m.\u001b[0m\u001b[0mreplace\u001b[0m\u001b[0;34m(\u001b[0m\u001b[0;34m'\\D'\u001b[0m\u001b[0;34m,\u001b[0m\u001b[0;34m''\u001b[0m\u001b[0;34m)\u001b[0m\u001b[0;34m.\u001b[0m\u001b[0mastype\u001b[0m\u001b[0;34m(\u001b[0m\u001b[0mint\u001b[0m\u001b[0;34m)\u001b[0m\u001b[0;34m\u001b[0m\u001b[0;34m\u001b[0m\u001b[0m\n\u001b[0m\u001b[1;32m      4\u001b[0m \u001b[0;34m\u001b[0m\u001b[0m\n\u001b[1;32m      5\u001b[0m \u001b[0mprice_data2\u001b[0m \u001b[0;34m=\u001b[0m \u001b[0mprice_data\u001b[0m\u001b[0;34m.\u001b[0m\u001b[0msort_values\u001b[0m\u001b[0;34m(\u001b[0m\u001b[0mascending\u001b[0m\u001b[0;34m=\u001b[0m\u001b[0;32mTrue\u001b[0m\u001b[0;34m,\u001b[0m \u001b[0mby\u001b[0m\u001b[0;34m=\u001b[0m\u001b[0;34m[\u001b[0m\u001b[0;34m'Date'\u001b[0m\u001b[0;34m]\u001b[0m\u001b[0;34m)\u001b[0m\u001b[0;34m\u001b[0m\u001b[0;34m\u001b[0m\u001b[0m\n",
      "\u001b[0;32m/anaconda3/lib/python3.7/site-packages/pandas/core/generic.py\u001b[0m in \u001b[0;36m__getattr__\u001b[0;34m(self, name)\u001b[0m\n\u001b[1;32m   4370\u001b[0m         if (name in self._internal_names_set or name in self._metadata or\n\u001b[1;32m   4371\u001b[0m                 name in self._accessors):\n\u001b[0;32m-> 4372\u001b[0;31m             \u001b[0;32mreturn\u001b[0m \u001b[0mobject\u001b[0m\u001b[0;34m.\u001b[0m\u001b[0m__getattribute__\u001b[0m\u001b[0;34m(\u001b[0m\u001b[0mself\u001b[0m\u001b[0;34m,\u001b[0m \u001b[0mname\u001b[0m\u001b[0;34m)\u001b[0m\u001b[0;34m\u001b[0m\u001b[0;34m\u001b[0m\u001b[0m\n\u001b[0m\u001b[1;32m   4373\u001b[0m         \u001b[0;32melse\u001b[0m\u001b[0;34m:\u001b[0m\u001b[0;34m\u001b[0m\u001b[0;34m\u001b[0m\u001b[0m\n\u001b[1;32m   4374\u001b[0m             \u001b[0;32mif\u001b[0m \u001b[0mself\u001b[0m\u001b[0;34m.\u001b[0m\u001b[0m_info_axis\u001b[0m\u001b[0;34m.\u001b[0m\u001b[0m_can_hold_identifiers_and_holds_name\u001b[0m\u001b[0;34m(\u001b[0m\u001b[0mname\u001b[0m\u001b[0;34m)\u001b[0m\u001b[0;34m:\u001b[0m\u001b[0;34m\u001b[0m\u001b[0;34m\u001b[0m\u001b[0m\n",
      "\u001b[0;32m/anaconda3/lib/python3.7/site-packages/pandas/core/accessor.py\u001b[0m in \u001b[0;36m__get__\u001b[0;34m(self, obj, cls)\u001b[0m\n\u001b[1;32m    131\u001b[0m             \u001b[0;31m# we're accessing the attribute of the class, i.e., Dataset.geo\u001b[0m\u001b[0;34m\u001b[0m\u001b[0;34m\u001b[0m\u001b[0;34m\u001b[0m\u001b[0m\n\u001b[1;32m    132\u001b[0m             \u001b[0;32mreturn\u001b[0m \u001b[0mself\u001b[0m\u001b[0;34m.\u001b[0m\u001b[0m_accessor\u001b[0m\u001b[0;34m\u001b[0m\u001b[0;34m\u001b[0m\u001b[0m\n\u001b[0;32m--> 133\u001b[0;31m         \u001b[0maccessor_obj\u001b[0m \u001b[0;34m=\u001b[0m \u001b[0mself\u001b[0m\u001b[0;34m.\u001b[0m\u001b[0m_accessor\u001b[0m\u001b[0;34m(\u001b[0m\u001b[0mobj\u001b[0m\u001b[0;34m)\u001b[0m\u001b[0;34m\u001b[0m\u001b[0;34m\u001b[0m\u001b[0m\n\u001b[0m\u001b[1;32m    134\u001b[0m         \u001b[0;31m# Replace the property with the accessor object. Inspired by:\u001b[0m\u001b[0;34m\u001b[0m\u001b[0;34m\u001b[0m\u001b[0;34m\u001b[0m\u001b[0m\n\u001b[1;32m    135\u001b[0m         \u001b[0;31m# http://www.pydanny.com/cached-property.html\u001b[0m\u001b[0;34m\u001b[0m\u001b[0;34m\u001b[0m\u001b[0;34m\u001b[0m\u001b[0m\n",
      "\u001b[0;32m/anaconda3/lib/python3.7/site-packages/pandas/core/strings.py\u001b[0m in \u001b[0;36m__init__\u001b[0;34m(self, data)\u001b[0m\n\u001b[1;32m   1893\u001b[0m \u001b[0;34m\u001b[0m\u001b[0m\n\u001b[1;32m   1894\u001b[0m     \u001b[0;32mdef\u001b[0m \u001b[0m__init__\u001b[0m\u001b[0;34m(\u001b[0m\u001b[0mself\u001b[0m\u001b[0;34m,\u001b[0m \u001b[0mdata\u001b[0m\u001b[0;34m)\u001b[0m\u001b[0;34m:\u001b[0m\u001b[0;34m\u001b[0m\u001b[0;34m\u001b[0m\u001b[0m\n\u001b[0;32m-> 1895\u001b[0;31m         \u001b[0mself\u001b[0m\u001b[0;34m.\u001b[0m\u001b[0m_validate\u001b[0m\u001b[0;34m(\u001b[0m\u001b[0mdata\u001b[0m\u001b[0;34m)\u001b[0m\u001b[0;34m\u001b[0m\u001b[0;34m\u001b[0m\u001b[0m\n\u001b[0m\u001b[1;32m   1896\u001b[0m         \u001b[0mself\u001b[0m\u001b[0;34m.\u001b[0m\u001b[0m_is_categorical\u001b[0m \u001b[0;34m=\u001b[0m \u001b[0mis_categorical_dtype\u001b[0m\u001b[0;34m(\u001b[0m\u001b[0mdata\u001b[0m\u001b[0;34m)\u001b[0m\u001b[0;34m\u001b[0m\u001b[0;34m\u001b[0m\u001b[0m\n\u001b[1;32m   1897\u001b[0m \u001b[0;34m\u001b[0m\u001b[0m\n",
      "\u001b[0;32m/anaconda3/lib/python3.7/site-packages/pandas/core/strings.py\u001b[0m in \u001b[0;36m_validate\u001b[0;34m(data)\u001b[0m\n\u001b[1;32m   1915\u001b[0m             \u001b[0;31m# (instead of test for object dtype), but that isn't practical for\u001b[0m\u001b[0;34m\u001b[0m\u001b[0;34m\u001b[0m\u001b[0;34m\u001b[0m\u001b[0m\n\u001b[1;32m   1916\u001b[0m             \u001b[0;31m# performance reasons until we have a str dtype (GH 9343)\u001b[0m\u001b[0;34m\u001b[0m\u001b[0;34m\u001b[0m\u001b[0;34m\u001b[0m\u001b[0m\n\u001b[0;32m-> 1917\u001b[0;31m             raise AttributeError(\"Can only use .str accessor with string \"\n\u001b[0m\u001b[1;32m   1918\u001b[0m                                  \u001b[0;34m\"values, which use np.object_ dtype in \"\u001b[0m\u001b[0;34m\u001b[0m\u001b[0;34m\u001b[0m\u001b[0m\n\u001b[1;32m   1919\u001b[0m                                  \"pandas\")\n",
      "\u001b[0;31mAttributeError\u001b[0m: Can only use .str accessor with string values, which use np.object_ dtype in pandas"
     ]
    }
   ],
   "source": [
    "price_data2.columns = ['Date', 'Opening price', 'High price', 'Low price', 'Closing price']\n",
    "\n",
    "price_data2['Date'] = price_data['Date'].str.replace('\\D','').astype(int)\n",
    "        \n",
    "price_data2 = price_data.sort_values(ascending=True, by=['Date'])\n",
    "\n",
    "\n",
    "price_data2['Closing price'] = price_data2['Closing price'].str.replace(',','.').astype(float)"
   ]
  },
  {
   "cell_type": "code",
   "execution_count": null,
   "metadata": {},
   "outputs": [],
   "source": []
  },
  {
   "cell_type": "code",
   "execution_count": 103,
   "metadata": {},
   "outputs": [],
   "source": [
    "price_data.drop(['Unnamed: 11','Bid','Ask','Low price','Average price', 'Total volume', 'Turnover', 'Trades'], inplace=True, axis=1)"
   ]
  },
  {
   "cell_type": "code",
   "execution_count": null,
   "metadata": {},
   "outputs": [],
   "source": []
  },
  {
   "cell_type": "code",
   "execution_count": 104,
   "metadata": {},
   "outputs": [],
   "source": [
    "# tday = price_data['Date', '']\n",
    "# cls = price_data['Closing price']\n",
    "\n",
    "price_data['Date'] = price_data['Date'].str.replace('\\D','').astype(int)"
   ]
  },
  {
   "cell_type": "code",
   "execution_count": 105,
   "metadata": {},
   "outputs": [],
   "source": [
    "#tday = tday.str.replace('\\D','').astype(int)\n",
    "\n",
    "price_data = price_data.sort_values(ascending=True, by=['Date'])"
   ]
  },
  {
   "cell_type": "code",
   "execution_count": 106,
   "metadata": {},
   "outputs": [
    {
     "data": {
      "text/html": [
       "<div>\n",
       "<style scoped>\n",
       "    .dataframe tbody tr th:only-of-type {\n",
       "        vertical-align: middle;\n",
       "    }\n",
       "\n",
       "    .dataframe tbody tr th {\n",
       "        vertical-align: top;\n",
       "    }\n",
       "\n",
       "    .dataframe thead th {\n",
       "        text-align: right;\n",
       "    }\n",
       "</style>\n",
       "<table border=\"1\" class=\"dataframe\">\n",
       "  <thead>\n",
       "    <tr style=\"text-align: right;\">\n",
       "      <th></th>\n",
       "      <th>Date</th>\n",
       "      <th>Opening price</th>\n",
       "      <th>High price</th>\n",
       "      <th>Closing price</th>\n",
       "    </tr>\n",
       "  </thead>\n",
       "  <tbody>\n",
       "    <tr>\n",
       "      <th>249</th>\n",
       "      <td>20180102</td>\n",
       "      <td>54,20</td>\n",
       "      <td>54,86</td>\n",
       "      <td>54,30</td>\n",
       "    </tr>\n",
       "    <tr>\n",
       "      <th>248</th>\n",
       "      <td>20180103</td>\n",
       "      <td>54,42</td>\n",
       "      <td>54,82</td>\n",
       "      <td>54,60</td>\n",
       "    </tr>\n",
       "    <tr>\n",
       "      <th>247</th>\n",
       "      <td>20180104</td>\n",
       "      <td>55,00</td>\n",
       "      <td>55,06</td>\n",
       "      <td>54,80</td>\n",
       "    </tr>\n",
       "    <tr>\n",
       "      <th>246</th>\n",
       "      <td>20180105</td>\n",
       "      <td>54,98</td>\n",
       "      <td>55,62</td>\n",
       "      <td>55,46</td>\n",
       "    </tr>\n",
       "    <tr>\n",
       "      <th>245</th>\n",
       "      <td>20180108</td>\n",
       "      <td>55,46</td>\n",
       "      <td>55,80</td>\n",
       "      <td>55,50</td>\n",
       "    </tr>\n",
       "  </tbody>\n",
       "</table>\n",
       "</div>"
      ],
      "text/plain": [
       "         Date Opening price High price Closing price\n",
       "249  20180102         54,20      54,86         54,30\n",
       "248  20180103         54,42      54,82         54,60\n",
       "247  20180104         55,00      55,06         54,80\n",
       "246  20180105         54,98      55,62         55,46\n",
       "245  20180108         55,46      55,80         55,50"
      ]
     },
     "execution_count": 106,
     "metadata": {},
     "output_type": "execute_result"
    }
   ],
   "source": [
    "price_data.head(5)"
   ]
  },
  {
   "cell_type": "code",
   "execution_count": 109,
   "metadata": {},
   "outputs": [],
   "source": [
    "price_data['Closing price'] = price_data['Closing price'].str.replace(',','.').astype(float)"
   ]
  },
  {
   "cell_type": "code",
   "execution_count": 124,
   "metadata": {},
   "outputs": [],
   "source": [
    "cls = np.array(price_data['Closing price'])"
   ]
  },
  {
   "cell_type": "code",
   "execution_count": 127,
   "metadata": {},
   "outputs": [
    {
     "data": {
      "text/plain": [
       "54.3"
      ]
     },
     "execution_count": 127,
     "metadata": {},
     "output_type": "execute_result"
    }
   ],
   "source": []
  },
  {
   "cell_type": "code",
   "execution_count": 131,
   "metadata": {},
   "outputs": [],
   "source": [
    "daily_returns = (cls[1:] - cls[:len(cls)-1])/cls[:len(cls)-1]\n"
   ]
  },
  {
   "cell_type": "code",
   "execution_count": 132,
   "metadata": {},
   "outputs": [],
   "source": [
    "excess_daily_returns = daily_returns - 0.04/252"
   ]
  },
  {
   "cell_type": "code",
   "execution_count": 135,
   "metadata": {},
   "outputs": [
    {
     "data": {
      "text/plain": [
       "1.1267069729215415"
      ]
     },
     "execution_count": 135,
     "metadata": {},
     "output_type": "execute_result"
    }
   ],
   "source": [
    "(np.sqrt(252) * np.mean(excess_daily_returns))/np.std(excess_daily_returns)"
   ]
  },
  {
   "cell_type": "code",
   "execution_count": 145,
   "metadata": {},
   "outputs": [
    {
     "data": {
      "text/plain": [
       "array([54.6 , 54.8 , 55.46, 55.5 , 56.02, 55.3 , 55.88, 56.48, 56.36,\n",
       "       56.  , 57.82, 58.5 , 58.56, 57.28, 57.08, 56.48, 54.6 , 54.04,\n",
       "       54.98, 55.7 , 50.6 , 52.14, 53.8 , 51.6 , 50.14, 52.42, 51.56,\n",
       "       51.78, 52.5 , 52.82, 53.06, 53.74, 54.08, 53.48, 54.74, 54.82,\n",
       "       54.6 , 55.94, 56.64, 56.68, 55.76, 54.24, 53.78, 55.56, 55.76,\n",
       "       55.52, 56.62, 56.94, 56.74, 56.1 , 55.92, 56.26, 55.78, 54.8 ,\n",
       "       54.36, 54.82, 53.72, 53.94, 52.38, 53.7 , 53.96, 52.92, 52.14,\n",
       "       51.52, 53.12, 52.82, 52.64, 53.14, 52.88, 53.56, 53.  , 53.38,\n",
       "       54.82, 54.18, 55.56, 65.28, 65.  , 65.76, 66.82, 65.76, 65.7 ,\n",
       "       67.2 , 66.72, 66.08, 68.14, 69.56, 69.52, 70.4 , 68.28, 67.5 ,\n",
       "       67.28, 66.8 , 67.4 , 67.66, 67.64, 66.44, 65.28, 65.52, 65.26,\n",
       "       64.8 , 64.84, 64.2 , 63.96, 64.18, 64.08, 64.16, 63.5 , 63.42,\n",
       "       63.2 , 63.64, 66.64, 68.18, 68.06, 68.  , 69.96, 70.5 , 68.6 ,\n",
       "       67.56, 67.16, 67.8 , 66.8 , 69.26, 67.78, 67.2 , 66.36, 66.6 ,\n",
       "       67.56, 67.78, 68.5 , 67.48, 68.34, 68.98, 67.74, 67.58, 73.34,\n",
       "       73.4 , 73.1 , 72.42, 72.6 , 72.8 , 71.86, 70.64, 69.96, 68.88,\n",
       "       70.02, 69.56, 70.68, 70.98, 71.14, 71.8 , 71.78, 71.3 , 71.2 ,\n",
       "       71.3 , 70.82, 71.74, 71.92, 72.78, 73.96, 74.42, 75.68, 78.2 ,\n",
       "       78.56, 78.7 , 78.76, 77.58, 77.14, 77.86, 77.64, 76.34, 78.88,\n",
       "       78.52, 77.64, 77.64, 76.5 , 77.66, 78.22, 77.  , 77.74, 77.86,\n",
       "       77.06, 77.62, 78.8 , 80.08, 79.5 , 79.76, 78.88, 79.62, 79.48,\n",
       "       80.3 , 80.62, 78.8 , 77.92, 79.62, 77.44, 74.58, 73.86, 73.84,\n",
       "       76.9 , 78.  , 82.82, 84.94, 83.66, 81.8 , 81.5 , 79.5 , 78.7 ,\n",
       "       79.06, 79.24, 79.78, 80.06, 81.  , 81.06, 80.92, 81.74, 81.7 ,\n",
       "       81.84, 80.3 , 81.  , 77.64, 76.46, 76.96, 75.92, 73.78, 74.24,\n",
       "       73.12, 75.98, 76.42, 75.38, 75.92, 75.88, 75.92, 78.64, 76.8 ,\n",
       "       75.24, 76.6 , 79.2 , 78.66, 80.3 , 82.86, 82.7 , 82.2 , 81.26,\n",
       "       80.66, 80.46, 78.68, 77.94, 75.4 , 77.92])"
      ]
     },
     "execution_count": 145,
     "metadata": {},
     "output_type": "execute_result"
    }
   ],
   "source": [
    "cls[1:]"
   ]
  },
  {
   "cell_type": "code",
   "execution_count": 144,
   "metadata": {},
   "outputs": [
    {
     "data": {
      "text/plain": [
       "array([54.3 , 54.6 , 54.8 , 55.46, 55.5 , 56.02, 55.3 , 55.88, 56.48,\n",
       "       56.36, 56.  , 57.82, 58.5 , 58.56, 57.28, 57.08, 56.48, 54.6 ,\n",
       "       54.04, 54.98, 55.7 , 50.6 , 52.14, 53.8 , 51.6 , 50.14, 52.42,\n",
       "       51.56, 51.78, 52.5 , 52.82, 53.06, 53.74, 54.08, 53.48, 54.74,\n",
       "       54.82, 54.6 , 55.94, 56.64, 56.68, 55.76, 54.24, 53.78, 55.56,\n",
       "       55.76, 55.52, 56.62, 56.94, 56.74, 56.1 , 55.92, 56.26, 55.78,\n",
       "       54.8 , 54.36, 54.82, 53.72, 53.94, 52.38, 53.7 , 53.96, 52.92,\n",
       "       52.14, 51.52, 53.12, 52.82, 52.64, 53.14, 52.88, 53.56, 53.  ,\n",
       "       53.38, 54.82, 54.18, 55.56, 65.28, 65.  , 65.76, 66.82, 65.76,\n",
       "       65.7 , 67.2 , 66.72, 66.08, 68.14, 69.56, 69.52, 70.4 , 68.28,\n",
       "       67.5 , 67.28, 66.8 , 67.4 , 67.66, 67.64, 66.44, 65.28, 65.52,\n",
       "       65.26, 64.8 , 64.84, 64.2 , 63.96, 64.18, 64.08, 64.16, 63.5 ,\n",
       "       63.42, 63.2 , 63.64, 66.64, 68.18, 68.06, 68.  , 69.96, 70.5 ,\n",
       "       68.6 , 67.56, 67.16, 67.8 , 66.8 , 69.26, 67.78, 67.2 , 66.36,\n",
       "       66.6 , 67.56, 67.78, 68.5 , 67.48, 68.34, 68.98, 67.74, 67.58,\n",
       "       73.34, 73.4 , 73.1 , 72.42, 72.6 , 72.8 , 71.86, 70.64, 69.96,\n",
       "       68.88, 70.02, 69.56, 70.68, 70.98, 71.14, 71.8 , 71.78, 71.3 ,\n",
       "       71.2 , 71.3 , 70.82, 71.74, 71.92, 72.78, 73.96, 74.42, 75.68,\n",
       "       78.2 , 78.56, 78.7 , 78.76, 77.58, 77.14, 77.86, 77.64, 76.34,\n",
       "       78.88, 78.52, 77.64, 77.64, 76.5 , 77.66, 78.22, 77.  , 77.74,\n",
       "       77.86, 77.06, 77.62, 78.8 , 80.08, 79.5 , 79.76, 78.88, 79.62,\n",
       "       79.48, 80.3 , 80.62, 78.8 , 77.92, 79.62, 77.44, 74.58, 73.86,\n",
       "       73.84, 76.9 , 78.  , 82.82, 84.94, 83.66, 81.8 , 81.5 , 79.5 ,\n",
       "       78.7 , 79.06, 79.24, 79.78, 80.06, 81.  , 81.06, 80.92, 81.74,\n",
       "       81.7 , 81.84, 80.3 , 81.  , 77.64, 76.46, 76.96, 75.92, 73.78,\n",
       "       74.24, 73.12, 75.98, 76.42, 75.38, 75.92, 75.88, 75.92, 78.64,\n",
       "       76.8 , 75.24, 76.6 , 79.2 , 78.66, 80.3 , 82.86, 82.7 , 82.2 ,\n",
       "       81.26, 80.66, 80.46, 78.68, 77.94, 75.4 ])"
      ]
     },
     "execution_count": 144,
     "metadata": {},
     "output_type": "execute_result"
    }
   ],
   "source": [
    "cls[:len(cls)-1]"
   ]
  },
  {
   "cell_type": "code",
   "execution_count": 148,
   "metadata": {},
   "outputs": [
    {
     "data": {
      "text/plain": [
       "array([54.3 , 54.6 , 54.8 , 55.46, 55.5 , 56.02, 55.3 , 55.88, 56.48,\n",
       "       56.36, 56.  , 57.82, 58.5 , 58.56, 57.28, 57.08, 56.48, 54.6 ,\n",
       "       54.04, 54.98, 55.7 , 50.6 , 52.14, 53.8 , 51.6 , 50.14, 52.42,\n",
       "       51.56, 51.78, 52.5 , 52.82, 53.06, 53.74, 54.08, 53.48, 54.74,\n",
       "       54.82, 54.6 , 55.94, 56.64, 56.68, 55.76, 54.24, 53.78, 55.56,\n",
       "       55.76, 55.52, 56.62, 56.94, 56.74, 56.1 , 55.92, 56.26, 55.78,\n",
       "       54.8 , 54.36, 54.82, 53.72, 53.94, 52.38, 53.7 , 53.96, 52.92,\n",
       "       52.14, 51.52, 53.12, 52.82, 52.64, 53.14, 52.88, 53.56, 53.  ,\n",
       "       53.38, 54.82, 54.18, 55.56, 65.28, 65.  , 65.76, 66.82, 65.76,\n",
       "       65.7 , 67.2 , 66.72, 66.08, 68.14, 69.56, 69.52, 70.4 , 68.28,\n",
       "       67.5 , 67.28, 66.8 , 67.4 , 67.66, 67.64, 66.44, 65.28, 65.52,\n",
       "       65.26, 64.8 , 64.84, 64.2 , 63.96, 64.18, 64.08, 64.16, 63.5 ,\n",
       "       63.42, 63.2 , 63.64, 66.64, 68.18, 68.06, 68.  , 69.96, 70.5 ,\n",
       "       68.6 , 67.56, 67.16, 67.8 , 66.8 , 69.26, 67.78, 67.2 , 66.36,\n",
       "       66.6 , 67.56, 67.78, 68.5 , 67.48, 68.34, 68.98, 67.74, 67.58,\n",
       "       73.34, 73.4 , 73.1 , 72.42, 72.6 , 72.8 , 71.86, 70.64, 69.96,\n",
       "       68.88, 70.02, 69.56, 70.68, 70.98, 71.14, 71.8 , 71.78, 71.3 ,\n",
       "       71.2 , 71.3 , 70.82, 71.74, 71.92, 72.78, 73.96, 74.42, 75.68,\n",
       "       78.2 , 78.56, 78.7 , 78.76, 77.58, 77.14, 77.86, 77.64, 76.34,\n",
       "       78.88, 78.52, 77.64, 77.64, 76.5 , 77.66, 78.22, 77.  , 77.74,\n",
       "       77.86, 77.06, 77.62, 78.8 , 80.08, 79.5 , 79.76, 78.88, 79.62,\n",
       "       79.48, 80.3 , 80.62, 78.8 , 77.92, 79.62, 77.44, 74.58, 73.86,\n",
       "       73.84, 76.9 , 78.  , 82.82, 84.94, 83.66, 81.8 , 81.5 , 79.5 ,\n",
       "       78.7 , 79.06, 79.24, 79.78, 80.06, 81.  , 81.06, 80.92, 81.74,\n",
       "       81.7 , 81.84, 80.3 , 81.  , 77.64, 76.46, 76.96, 75.92, 73.78,\n",
       "       74.24, 73.12, 75.98, 76.42, 75.38, 75.92, 75.88, 75.92, 78.64,\n",
       "       76.8 , 75.24, 76.6 , 79.2 , 78.66, 80.3 , 82.86, 82.7 , 82.2 ,\n",
       "       81.26, 80.66, 80.46, 78.68, 77.94, 75.4 , 77.92])"
      ]
     },
     "execution_count": 148,
     "metadata": {},
     "output_type": "execute_result"
    }
   ],
   "source": [
    "cls[:250]"
   ]
  }
 ],
 "metadata": {
  "kernelspec": {
   "display_name": "Python 3",
   "language": "python",
   "name": "python3"
  },
  "language_info": {
   "codemirror_mode": {
    "name": "ipython",
    "version": 3
   },
   "file_extension": ".py",
   "mimetype": "text/x-python",
   "name": "python",
   "nbconvert_exporter": "python",
   "pygments_lexer": "ipython3",
   "version": "3.7.1"
  }
 },
 "nbformat": 4,
 "nbformat_minor": 2
}
